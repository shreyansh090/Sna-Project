{
 "cells": [
  {
   "cell_type": "code",
   "execution_count": 1,
   "metadata": {
    "execution": {
     "iopub.execute_input": "2023-01-14T02:27:40.612741Z",
     "iopub.status.busy": "2023-01-14T02:27:40.612545Z",
     "iopub.status.idle": "2023-01-14T02:27:42.890121Z",
     "shell.execute_reply": "2023-01-14T02:27:42.889360Z"
    },
    "id": "8RZOuS9LWQvv"
   },
   "outputs": [],
   "source": [
    "import matplotlib.pyplot as plt\n",
    "import os\n",
    "import re\n",
    "import shutil\n",
    "import string\n",
    "import tensorflow as tf\n",
    "\n",
    "from tensorflow.keras import layers\n",
    "from tensorflow.keras import losses\n"
   ]
  },
  {
   "cell_type": "code",
   "execution_count": 2,
   "metadata": {
    "execution": {
     "iopub.execute_input": "2023-01-14T02:27:42.894408Z",
     "iopub.status.busy": "2023-01-14T02:27:42.894001Z",
     "iopub.status.idle": "2023-01-14T02:27:42.897866Z",
     "shell.execute_reply": "2023-01-14T02:27:42.897154Z"
    },
    "id": "6-tTFS04dChr"
   },
   "outputs": [
    {
     "name": "stdout",
     "output_type": "stream",
     "text": [
      "2.10.0\n"
     ]
    }
   ],
   "source": [
    "print(tf.__version__)"
   ]
  },
  {
   "cell_type": "code",
   "execution_count": 3,
   "metadata": {
    "execution": {
     "iopub.execute_input": "2023-01-14T02:27:58.602307Z",
     "iopub.status.busy": "2023-01-14T02:27:58.601630Z",
     "iopub.status.idle": "2023-01-14T02:28:03.136436Z",
     "shell.execute_reply": "2023-01-14T02:28:03.135603Z"
    },
    "id": "nOrK-MTYaw3C"
   },
   "outputs": [
    {
     "name": "stdout",
     "output_type": "stream",
     "text": [
      "Found 44307 files belonging to 2 classes.\n"
     ]
    }
   ],
   "source": [
    "batch_size = 32\n",
    "seed = 42\n",
    "\n",
    "raw_train_ds = tf.keras.utils.text_dataset_from_directory(\n",
    "    'train', \n",
    "    batch_size=batch_size, \n",
    "    # validation_split=0.2, \n",
    "    # subset='training', \n",
    "    seed=seed)"
   ]
  },
  {
   "cell_type": "code",
   "execution_count": 4,
   "metadata": {
    "execution": {
     "iopub.execute_input": "2023-01-14T02:28:03.140618Z",
     "iopub.status.busy": "2023-01-14T02:28:03.139995Z",
     "iopub.status.idle": "2023-01-14T02:28:03.167876Z",
     "shell.execute_reply": "2023-01-14T02:28:03.167155Z"
    },
    "id": "51wNaPPApk1K"
   },
   "outputs": [
    {
     "name": "stdout",
     "output_type": "stream",
     "text": [
      "Review b\"ORIGINAL TWEET CONTENT : obama confidante <person> <person> moved into his washington home to mastermind insurgency against hashtag ! it's called hashtag ! urlREPORTED TWEET CONTENT:@user fake news url url \"\n",
      "Label 0\n",
      "Review b'ORIGINAL TWEET CONTENT : @user is it b c of \" priveledge michelle\\'s mom will get $ <number> for life ? what do you consider that ? who gets pd for being a g-ma ?REPORTED TWEET CONTENT:@user as <person> would say ... wrong url ORIGINAL TWEET CONTENT : @user $ <number> for life ; for being a grandma ?REPORTED TWEET CONTENT:@user as <person> would say ... wrong url '\n",
      "Label 0\n",
      "Review b'ORIGINAL TWEET CONTENT : hashtag this has to stop ! antifa = terrorists urlREPORTED TWEET CONTENT:@user sorry gurl url '\n",
      "Label 0\n"
     ]
    }
   ],
   "source": [
    "for text_batch, label_batch in raw_train_ds.take(1):\n",
    "  for i in range(3):\n",
    "    print(\"Review\", text_batch.numpy()[i])\n",
    "    print(\"Label\", label_batch.numpy()[i])"
   ]
  },
  {
   "cell_type": "code",
   "execution_count": 5,
   "metadata": {
    "execution": {
     "iopub.execute_input": "2023-01-14T02:28:03.171540Z",
     "iopub.status.busy": "2023-01-14T02:28:03.170964Z",
     "iopub.status.idle": "2023-01-14T02:28:03.174697Z",
     "shell.execute_reply": "2023-01-14T02:28:03.174103Z"
    },
    "id": "MlICTG8spyO2"
   },
   "outputs": [
    {
     "name": "stdout",
     "output_type": "stream",
     "text": [
      "Label 0 corresponds to false\n",
      "Label 1 corresponds to true\n"
     ]
    }
   ],
   "source": [
    "print(\"Label 0 corresponds to\", raw_train_ds.class_names[0])\n",
    "print(\"Label 1 corresponds to\", raw_train_ds.class_names[1])"
   ]
  },
  {
   "cell_type": "code",
   "execution_count": 6,
   "metadata": {
    "execution": {
     "iopub.execute_input": "2023-01-14T02:28:03.178238Z",
     "iopub.status.busy": "2023-01-14T02:28:03.177733Z",
     "iopub.status.idle": "2023-01-14T02:28:04.311139Z",
     "shell.execute_reply": "2023-01-14T02:28:04.310456Z"
    },
    "id": "JsMwwhOoqjKF"
   },
   "outputs": [
    {
     "name": "stdout",
     "output_type": "stream",
     "text": [
      "Found 6149 files belonging to 2 classes.\n"
     ]
    }
   ],
   "source": [
    "raw_val_ds = tf.keras.utils.text_dataset_from_directory(\n",
    "    'val',\n",
    "    batch_size=batch_size, \n",
    "    # validation_split=0.2, \n",
    "    # subset='validation', \n",
    "    seed=seed)"
   ]
  },
  {
   "cell_type": "code",
   "execution_count": 7,
   "metadata": {
    "execution": {
     "iopub.execute_input": "2023-01-14T02:28:04.314753Z",
     "iopub.status.busy": "2023-01-14T02:28:04.314181Z",
     "iopub.status.idle": "2023-01-14T02:28:05.453831Z",
     "shell.execute_reply": "2023-01-14T02:28:05.453132Z"
    },
    "id": "rdSr0Nt3q_ns"
   },
   "outputs": [
    {
     "name": "stdout",
     "output_type": "stream",
     "text": [
      "Found 6183 files belonging to 2 classes.\n"
     ]
    }
   ],
   "source": [
    "raw_test_ds = tf.keras.utils.text_dataset_from_directory(\n",
    "    'test', \n",
    "    batch_size=batch_size)"
   ]
  },
  {
   "cell_type": "code",
   "execution_count": 8,
   "metadata": {
    "execution": {
     "iopub.execute_input": "2023-01-14T02:28:05.457879Z",
     "iopub.status.busy": "2023-01-14T02:28:05.457381Z",
     "iopub.status.idle": "2023-01-14T02:28:05.461589Z",
     "shell.execute_reply": "2023-01-14T02:28:05.460716Z"
    },
    "id": "SDRI_s_tX1Hk"
   },
   "outputs": [],
   "source": [
    "def custom_standardization(input_data):\n",
    "  lowercase = tf.strings.lower(input_data)\n",
    "  stripped_html = tf.strings.regex_replace(lowercase, '<br />', ' ')\n",
    "  return tf.strings.regex_replace(stripped_html,\n",
    "                                  '[%s]' % re.escape(string.punctuation),\n",
    "                                  '')"
   ]
  },
  {
   "cell_type": "code",
   "execution_count": 9,
   "metadata": {
    "execution": {
     "iopub.execute_input": "2023-01-14T02:28:05.465134Z",
     "iopub.status.busy": "2023-01-14T02:28:05.464692Z",
     "iopub.status.idle": "2023-01-14T02:28:05.477124Z",
     "shell.execute_reply": "2023-01-14T02:28:05.476443Z"
    },
    "id": "-c76RvSzsMnX"
   },
   "outputs": [],
   "source": [
    "max_features = 10000\n",
    "sequence_length = 250\n",
    "\n",
    "vectorize_layer = layers.TextVectorization(\n",
    "    standardize=custom_standardization,\n",
    "    max_tokens=max_features,\n",
    "    output_mode='int',\n",
    "    output_sequence_length=sequence_length)"
   ]
  },
  {
   "cell_type": "code",
   "execution_count": 10,
   "metadata": {
    "execution": {
     "iopub.execute_input": "2023-01-14T02:28:05.480591Z",
     "iopub.status.busy": "2023-01-14T02:28:05.480116Z",
     "iopub.status.idle": "2023-01-14T02:28:07.658124Z",
     "shell.execute_reply": "2023-01-14T02:28:07.657335Z"
    },
    "id": "GH4_2ZGJsa_X"
   },
   "outputs": [],
   "source": [
    "# Make a text-only dataset (without labels), then call adapt\n",
    "train_text = raw_train_ds.map(lambda x, y: x)\n",
    "vectorize_layer.adapt(train_text)"
   ]
  },
  {
   "cell_type": "code",
   "execution_count": 11,
   "metadata": {
    "execution": {
     "iopub.execute_input": "2023-01-14T02:28:07.662874Z",
     "iopub.status.busy": "2023-01-14T02:28:07.662270Z",
     "iopub.status.idle": "2023-01-14T02:28:07.666069Z",
     "shell.execute_reply": "2023-01-14T02:28:07.665438Z"
    },
    "id": "SCIg_T50wOCU"
   },
   "outputs": [],
   "source": [
    "def vectorize_text(text, label):\n",
    "  text = tf.expand_dims(text, -1)\n",
    "  return vectorize_layer(text), label"
   ]
  },
  {
   "cell_type": "code",
   "execution_count": 12,
   "metadata": {
    "execution": {
     "iopub.execute_input": "2023-01-14T02:28:07.669233Z",
     "iopub.status.busy": "2023-01-14T02:28:07.668754Z",
     "iopub.status.idle": "2023-01-14T02:28:07.725842Z",
     "shell.execute_reply": "2023-01-14T02:28:07.725206Z"
    },
    "id": "XULcm6B3xQIO"
   },
   "outputs": [
    {
     "name": "stdout",
     "output_type": "stream",
     "text": [
      "Review tf.Tensor(b\"ORIGINAL TWEET CONTENT : @user tell it like it is sheriff ! ! !REPORTED TWEET CONTENT:@user it's a lie . url ORIGINAL TWEET CONTENT : the united states has the highest corporate tax rate of any developed country in the world . hashtagREPORTED TWEET CONTENT:@user jfc just read a little . url ORIGINAL TWEET CONTENT : @user urlREPORTED TWEET CONTENT:@user this meme is bullshit . omg . the world is full of dotards ! even url ORIGINAL TWEET CONTENT : @user national voter registration act of <number> ( nvra ) ( <number> u . s . c . <number> ) ( formerly <number> u . s . c . <number> - <number> ) do better researchREPORTED TWEET CONTENT:@user and this url ORIGINAL TWEET CONTENT : lying lib media spreads fake news about me and @user to fool their liberal followers into believing lies because as <person> . bill <person> once said , look , the average democrat voter is just plain stupid . theyre easy to manipulate . classic ! urlREPORTED TWEET CONTENT:@user i think you are the fake news . read this . url ORIGINAL TWEET CONTENT : just in : disgraced former sheriff & make-believe cowboy working extra hard to secure presidential pardon in anticipation of federal indictment . urlREPORTED TWEET CONTENT:@user by peddling his own fake news . url ORIGINAL TWEET CONTENT : @user the <number> commandment ' ' thy shall not think ' ' works for the demo's and thier followers .REPORTED TWEET CONTENT:@user i'll just leave this here for you , sport . url ORIGINAL TWEET CONTENT : @user well get ready to have no healthcare at all ... it can't sustain itself .. obamacare is imploding ...REPORTED TWEET CONTENT:@user no , no it isn't . you've been lied to . url ORIGINAL TWEET CONTENT : @user considering i sent you a link <number> days ago , you actually aren't waiting . summary : russia gives $ to cf . state dept . gives contract to russia . urlREPORTED TWEET CONTENT:@user link didn't come up . doesn't matter . it's false . it has been debunked several times url ORIGINAL TWEET CONTENT : @user national voter registration act of <number> ( nvra ) ( <number> u . s . c . <number> ) ( formerly <number> u . s . c . <number> - <number> ) do better researchREPORTED TWEET CONTENT:@user and this url \", shape=(), dtype=string)\n",
      "Label false\n",
      "Vectorized review (<tf.Tensor: shape=(1, 250), dtype=int64, numpy=\n",
      "array([[   5,    2,    4,    9,  229,   23,   58,   23,   14, 3411,   17,\n",
      "           2,    6,   33,   11,  103,    3,    5,    2,    4,    7,  277,\n",
      "         187,   52,    7,  537, 2198,  193,  518,   16,  152, 6017,  222,\n",
      "          21,    7,  260,  121,    2,    6, 4652,   45,   92,   11,  309,\n",
      "           3,    5,    2,    4,    9,   12,    2,    6,   20,  453,   14,\n",
      "         239,  859,    7,  260,   14,  400,   16,    1,  102,    3,    5,\n",
      "           2,    4,    9,  312,  456, 2877,  583,   16,   13,    1,   13,\n",
      "         109,  175,  686,   13,    1,   13,  109,  175,  686,   13,   13,\n",
      "          44,  264, 4414,    2,    6,   18,   20,    3,    5,    2,    4,\n",
      "         165, 1897,  168, 2534,   31,   46,   38,   90,   18,    9,   10,\n",
      "         856,  100,  338, 1173,  174,  914,  114,  106,   42,    8,  199,\n",
      "           8,  454,   85,  137,    7, 1308,  380,  456,   14,   45, 1387,\n",
      "         207,  346,  552,   10, 1651, 2035,   12,    2,    6,   26,  113,\n",
      "          15,   29,    7,   31,   46,   92,   20,    3,    5,    2,    4,\n",
      "          45,   21, 5100,  719, 3411,    1,    1,  593, 2892,  373,   10,\n",
      "        1622, 1015, 3206,   21,    1,   16,  764, 2807,   12,    2,    6,\n",
      "          48, 1840,   57,  228,   31,   46,    3,    5,    2,    4,    9,\n",
      "           7,   13,    1, 8920, 2381,   24,  113,  933,   25,    7,    1,\n",
      "          18, 7030, 1173,   17,    2,    6,  326,   45,  531,   20,   83,\n",
      "          25,   15, 5874,    3,    5,    2,    4,    9,  145,   77, 1416,\n",
      "          10,   37,   34,  886,   59,   51,   23,  143,    1, 1381,  536,\n",
      "          14, 5372,   17,    2,    6,   34,   34,   23,  132,  551,   80,\n",
      "         370,   10,    3,    5,    2,    4,    9, 1865]], dtype=int64)>, <tf.Tensor: shape=(), dtype=int32, numpy=0>)\n"
     ]
    }
   ],
   "source": [
    "# retrieve a batch (of 32 reviews and labels) from the dataset\n",
    "text_batch, label_batch = next(iter(raw_train_ds))\n",
    "first_review, first_label = text_batch[0], label_batch[0]\n",
    "print(\"Review\", first_review)\n",
    "print(\"Label\", raw_train_ds.class_names[first_label])\n",
    "print(\"Vectorized review\", vectorize_text(first_review, first_label))"
   ]
  },
  {
   "cell_type": "code",
   "execution_count": 13,
   "metadata": {
    "execution": {
     "iopub.execute_input": "2023-01-14T02:28:07.729121Z",
     "iopub.status.busy": "2023-01-14T02:28:07.728857Z",
     "iopub.status.idle": "2023-01-14T02:28:07.771832Z",
     "shell.execute_reply": "2023-01-14T02:28:07.771262Z"
    },
    "id": "kRq9hTQzhVhW"
   },
   "outputs": [
    {
     "name": "stdout",
     "output_type": "stream",
     "text": [
      "1287 --->  water\n",
      " 313 --->  flag\n",
      "Vocabulary size: 10000\n"
     ]
    }
   ],
   "source": [
    "print(\"1287 ---> \",vectorize_layer.get_vocabulary()[1287])\n",
    "print(\" 313 ---> \",vectorize_layer.get_vocabulary()[313])\n",
    "print('Vocabulary size: {}'.format(len(vectorize_layer.get_vocabulary())))"
   ]
  },
  {
   "cell_type": "code",
   "execution_count": 14,
   "metadata": {
    "execution": {
     "iopub.execute_input": "2023-01-14T02:28:07.775349Z",
     "iopub.status.busy": "2023-01-14T02:28:07.774960Z",
     "iopub.status.idle": "2023-01-14T02:28:07.899944Z",
     "shell.execute_reply": "2023-01-14T02:28:07.899264Z"
    },
    "id": "2zhmpeViI1iG"
   },
   "outputs": [],
   "source": [
    "train_ds = raw_train_ds.map(vectorize_text)\n",
    "val_ds = raw_val_ds.map(vectorize_text)\n",
    "test_ds = raw_test_ds.map(vectorize_text)"
   ]
  },
  {
   "cell_type": "code",
   "execution_count": 15,
   "metadata": {
    "execution": {
     "iopub.execute_input": "2023-01-14T02:28:07.903275Z",
     "iopub.status.busy": "2023-01-14T02:28:07.903058Z",
     "iopub.status.idle": "2023-01-14T02:28:07.910179Z",
     "shell.execute_reply": "2023-01-14T02:28:07.909503Z"
    },
    "id": "wMcs_H7izm5m"
   },
   "outputs": [],
   "source": [
    "AUTOTUNE = tf.data.AUTOTUNE\n",
    "\n",
    "train_ds = train_ds.cache().prefetch(buffer_size=AUTOTUNE)\n",
    "val_ds = val_ds.cache().prefetch(buffer_size=AUTOTUNE)\n",
    "test_ds = test_ds.cache().prefetch(buffer_size=AUTOTUNE)"
   ]
  },
  {
   "cell_type": "code",
   "execution_count": 16,
   "metadata": {
    "execution": {
     "iopub.execute_input": "2023-01-14T02:28:07.913519Z",
     "iopub.status.busy": "2023-01-14T02:28:07.913066Z",
     "iopub.status.idle": "2023-01-14T02:28:07.915832Z",
     "shell.execute_reply": "2023-01-14T02:28:07.915306Z"
    },
    "id": "dkQP6in8yUBR"
   },
   "outputs": [],
   "source": [
    "embedding_dim = 16"
   ]
  },
  {
   "cell_type": "code",
   "execution_count": 17,
   "metadata": {
    "execution": {
     "iopub.execute_input": "2023-01-14T02:28:07.918933Z",
     "iopub.status.busy": "2023-01-14T02:28:07.918459Z",
     "iopub.status.idle": "2023-01-14T02:28:07.972921Z",
     "shell.execute_reply": "2023-01-14T02:28:07.972358Z"
    },
    "id": "xpKOoWgu-llD"
   },
   "outputs": [],
   "source": [
    "model = tf.keras.Sequential([\n",
    "    tf.keras.layers.Embedding(\n",
    "        input_dim=len(vectorize_layer.get_vocabulary()),\n",
    "        output_dim=64,\n",
    "        mask_zero=True),\n",
    "    tf.keras.layers.GlobalAveragePooling1D(),\n",
    "    tf.keras.layers.Dense(1,activation='sigmoid')\n",
    "])\n"
   ]
  },
  {
   "cell_type": "code",
   "execution_count": 18,
   "metadata": {
    "execution": {
     "iopub.execute_input": "2023-01-14T02:28:07.980702Z",
     "iopub.status.busy": "2023-01-14T02:28:07.980305Z",
     "iopub.status.idle": "2023-01-14T02:28:07.994007Z",
     "shell.execute_reply": "2023-01-14T02:28:07.993449Z"
    },
    "id": "Mr0GP-cQ-llN"
   },
   "outputs": [],
   "source": [
    "model.compile(loss=tf.keras.losses.BinaryCrossentropy(from_logits=True),\n",
    "              optimizer=tf.keras.optimizers.Adam(1e-4),\n",
    "              metrics=['accuracy'])\n"
   ]
  },
  {
   "cell_type": "code",
   "execution_count": 19,
   "metadata": {
    "execution": {
     "iopub.execute_input": "2023-01-14T02:28:07.997110Z",
     "iopub.status.busy": "2023-01-14T02:28:07.996890Z",
     "iopub.status.idle": "2023-01-14T02:29:08.745685Z",
     "shell.execute_reply": "2023-01-14T02:29:08.744871Z"
    },
    "id": "tXSGrjWZ-llW"
   },
   "outputs": [
    {
     "name": "stdout",
     "output_type": "stream",
     "text": [
      "Epoch 1/10\n"
     ]
    },
    {
     "name": "stderr",
     "output_type": "stream",
     "text": [
      "C:\\Users\\shrey\\AppData\\Roaming\\Python\\Python39\\site-packages\\keras\\backend.py:5673: UserWarning: \"`binary_crossentropy` received `from_logits=True`, but the `output` argument was produced by a Sigmoid activation and thus does not represent logits. Was this intended?\n",
      "  output, from_logits = _get_logits(\n"
     ]
    },
    {
     "name": "stdout",
     "output_type": "stream",
     "text": [
      "1385/1385 [==============================] - 16s 11ms/step - loss: 0.5747 - accuracy: 0.7767 - val_loss: 0.4970 - val_accuracy: 0.7931\n",
      "Epoch 2/10\n",
      "1385/1385 [==============================] - 9s 6ms/step - loss: 0.5037 - accuracy: 0.7772 - val_loss: 0.4784 - val_accuracy: 0.7931\n",
      "Epoch 3/10\n",
      "1385/1385 [==============================] - 9s 6ms/step - loss: 0.4873 - accuracy: 0.7782 - val_loss: 0.4630 - val_accuracy: 0.7948\n",
      "Epoch 4/10\n",
      "1385/1385 [==============================] - 9s 6ms/step - loss: 0.4701 - accuracy: 0.7809 - val_loss: 0.4466 - val_accuracy: 0.7972\n",
      "Epoch 5/10\n",
      "1385/1385 [==============================] - 9s 6ms/step - loss: 0.4518 - accuracy: 0.7832 - val_loss: 0.4295 - val_accuracy: 0.8013\n",
      "Epoch 6/10\n",
      "1385/1385 [==============================] - 9s 6ms/step - loss: 0.4331 - accuracy: 0.7896 - val_loss: 0.4127 - val_accuracy: 0.8070\n",
      "Epoch 7/10\n",
      "1385/1385 [==============================] - 9s 6ms/step - loss: 0.4152 - accuracy: 0.8007 - val_loss: 0.3971 - val_accuracy: 0.8187\n",
      "Epoch 8/10\n",
      "1385/1385 [==============================] - 10s 7ms/step - loss: 0.3986 - accuracy: 0.8141 - val_loss: 0.3830 - val_accuracy: 0.8294\n",
      "Epoch 9/10\n",
      "1385/1385 [==============================] - 8s 6ms/step - loss: 0.3837 - accuracy: 0.8262 - val_loss: 0.3706 - val_accuracy: 0.8380\n",
      "Epoch 10/10\n",
      "1385/1385 [==============================] - 8s 6ms/step - loss: 0.3704 - accuracy: 0.8354 - val_loss: 0.3596 - val_accuracy: 0.8462\n"
     ]
    }
   ],
   "source": [
    "epochs = 10\n",
    "history = model.fit(\n",
    "    train_ds,\n",
    "    validation_data=val_ds,\n",
    "    epochs=epochs)"
   ]
  },
  {
   "cell_type": "code",
   "execution_count": 20,
   "metadata": {
    "execution": {
     "iopub.execute_input": "2023-01-14T02:29:08.749611Z",
     "iopub.status.busy": "2023-01-14T02:29:08.749051Z",
     "iopub.status.idle": "2023-01-14T02:29:10.304995Z",
     "shell.execute_reply": "2023-01-14T02:29:10.304256Z"
    },
    "id": "zOMKywn4zReN"
   },
   "outputs": [
    {
     "name": "stdout",
     "output_type": "stream",
     "text": [
      "194/194 [==============================] - 1s 7ms/step - loss: 0.3528 - accuracy: 0.8502\n",
      "Loss:  0.35278987884521484\n",
      "Accuracy:  0.8502345085144043\n"
     ]
    }
   ],
   "source": [
    "loss, accuracy = model.evaluate(test_ds)\n",
    "\n",
    "print(\"Loss: \", loss)\n",
    "print(\"Accuracy: \", accuracy)"
   ]
  },
  {
   "cell_type": "code",
   "execution_count": null,
   "metadata": {},
   "outputs": [],
   "source": []
  },
  {
   "cell_type": "code",
   "execution_count": 21,
   "metadata": {
    "execution": {
     "iopub.execute_input": "2023-01-14T02:29:10.308581Z",
     "iopub.status.busy": "2023-01-14T02:29:10.307984Z",
     "iopub.status.idle": "2023-01-14T02:29:10.312435Z",
     "shell.execute_reply": "2023-01-14T02:29:10.311750Z"
    },
    "id": "-YcvZsdvWfDf"
   },
   "outputs": [
    {
     "data": {
      "text/plain": [
       "dict_keys(['loss', 'accuracy', 'val_loss', 'val_accuracy'])"
      ]
     },
     "execution_count": 21,
     "metadata": {},
     "output_type": "execute_result"
    }
   ],
   "source": [
    "history_dict = history.history\n",
    "history_dict.keys()"
   ]
  },
  {
   "cell_type": "code",
   "execution_count": 22,
   "metadata": {
    "execution": {
     "iopub.execute_input": "2023-01-14T02:29:10.315699Z",
     "iopub.status.busy": "2023-01-14T02:29:10.315207Z",
     "iopub.status.idle": "2023-01-14T02:29:10.451693Z",
     "shell.execute_reply": "2023-01-14T02:29:10.451113Z"
    },
    "id": "2SEMeQ5YXs8z"
   },
   "outputs": [
    {
     "data": {
      "image/png": "[encoded data removed]",
      "text/plain": [
       "<Figure size 640x480 with 1 Axes>"
      ]
     },
     "metadata": {},
     "output_type": "display_data"
    }
   ],
   "source": [
    "acc = history_dict['accuracy']\n",
    "val_acc = history_dict['val_accuracy']\n",
    "loss = history_dict['loss']\n",
    "val_loss = history_dict['val_loss']\n",
    "\n",
    "epochs = range(1, len(acc) + 1)\n",
    "\n",
    "# \"bo\" is for \"blue dot\"\n",
    "plt.plot(epochs, loss, 'bo', label='Training loss')\n",
    "# b is for \"solid blue line\"\n",
    "plt.plot(epochs, val_loss, 'b', label='Validation loss')\n",
    "plt.title('Training and validation loss')\n",
    "plt.xlabel('Epochs')\n",
    "plt.ylabel('Loss')\n",
    "plt.legend()\n",
    "\n",
    "plt.show()"
   ]
  }
 ],
 "metadata": {
  "accelerator": "GPU",
  "colab": {
   "collapsed_sections": [],
   "name": "text_classification.ipynb",
   "toc_visible": true
  },
  "kernelspec": {
   "display_name": "Python 3",
   "name": "python3"
  },
  "language_info": {
   "codemirror_mode": {
    "name": "ipython",
    "version": 3
   },
   "file_extension": ".py",
   "mimetype": "text/x-python",
   "name": "python",
   "nbconvert_exporter": "python",
   "pygments_lexer": "ipython3",
   "version": "3.9.11"
  }
 },
 "nbformat": 4,
 "nbformat_minor": 0
}
